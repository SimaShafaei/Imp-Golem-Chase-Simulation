{
 "cells": [
  {
   "cell_type": "code",
   "execution_count": 106,
   "metadata": {},
   "outputs": [
    {
     "name": "stdout",
     "output_type": "stream",
     "text": [
      "\u001b[31mG\u001b[30m-\u001b[30m-\u001b[30m-\u001b[30m-\u001b[34mI\u001b[30m-\u001b[30m-\u001b[30m-\u001b[30m-\u001b[30m-\u001b[30m-\u001b[30m-\u001b[30m-\u001b[30m-\u001b[30m-\u001b[30m-\u001b[30m-\u001b[30m-\u001b[30m-\u001b[30m-\u001b[30m-\u001b[30m-\u001b[30m-\u001b[30m-\u001b[30m-\u001b[30m-\u001b[30m-\u001b[30m-\u001b[30m-\u001b[30m-\u001b[30m-\u001b[30m-\u001b[30m-\u001b[30m-\u001b[30m-\u001b[30m-\u001b[30m-\u001b[30m-\u001b[30m-\u001b[30m-\u001b[30m-\u001b[30m-\u001b[30m-\u001b[30m-\u001b[30m-\u001b[30m-\u001b[30m-\u001b[30m-\u001b[30m-\u001b[30mX     0s\n",
      "\u001b[30m-\u001b[30m-\u001b[30m-\u001b[30m-\u001b[31mG\u001b[30m-\u001b[30m-\u001b[30m-\u001b[30m-\u001b[30m-\u001b[30m-\u001b[34mI\u001b[30m-\u001b[30m-\u001b[30m-\u001b[30m-\u001b[30m-\u001b[30m-\u001b[30m-\u001b[30m-\u001b[30m-\u001b[30m-\u001b[30m-\u001b[30m-\u001b[30m-\u001b[30m-\u001b[30m-\u001b[30m-\u001b[30m-\u001b[30m-\u001b[30m-\u001b[30m-\u001b[30m-\u001b[30m-\u001b[30m-\u001b[30m-\u001b[30m-\u001b[30m-\u001b[30m-\u001b[30m-\u001b[30m-\u001b[30m-\u001b[30m-\u001b[30m-\u001b[30m-\u001b[30m-\u001b[30m-\u001b[30m-\u001b[30m-\u001b[30m-\u001b[30mX     1s\n",
      "\u001b[30m-\u001b[30m-\u001b[30m-\u001b[30m-\u001b[30m-\u001b[30m-\u001b[30m-\u001b[30m-\u001b[31mG\u001b[30m-\u001b[30m-\u001b[30m-\u001b[30m-\u001b[34mI\u001b[30m-\u001b[30m-\u001b[30m-\u001b[30m-\u001b[30m-\u001b[30m-\u001b[30m-\u001b[30m-\u001b[30m-\u001b[30m-\u001b[30m-\u001b[30m-\u001b[30m-\u001b[30m-\u001b[30m-\u001b[30m-\u001b[30m-\u001b[30m-\u001b[30m-\u001b[30m-\u001b[30m-\u001b[30m-\u001b[30m-\u001b[30m-\u001b[30m-\u001b[30m-\u001b[30m-\u001b[30m-\u001b[30m-\u001b[30m-\u001b[30m-\u001b[30m-\u001b[30m-\u001b[30m-\u001b[30m-\u001b[30m-\u001b[30mX     2s\n",
      "\u001b[30m-\u001b[30m-\u001b[30m-\u001b[30m-\u001b[30m-\u001b[30m-\u001b[30m-\u001b[30m-\u001b[30m-\u001b[30m-\u001b[30m-\u001b[31mG\u001b[30m-\u001b[30m-\u001b[30m-\u001b[34mI\u001b[30m-\u001b[30m-\u001b[30m-\u001b[30m-\u001b[30m-\u001b[30m-\u001b[30m-\u001b[30m-\u001b[30m-\u001b[30m-\u001b[30m-\u001b[30m-\u001b[30m-\u001b[30m-\u001b[30m-\u001b[30m-\u001b[30m-\u001b[30m-\u001b[30m-\u001b[30m-\u001b[30m-\u001b[30m-\u001b[30m-\u001b[30m-\u001b[30m-\u001b[30m-\u001b[30m-\u001b[30m-\u001b[30m-\u001b[30m-\u001b[30m-\u001b[30m-\u001b[30m-\u001b[30m-\u001b[30mX     3s\n",
      "\u001b[30m-\u001b[30m-\u001b[30m-\u001b[30m-\u001b[30m-\u001b[30m-\u001b[30m-\u001b[30m-\u001b[30m-\u001b[30m-\u001b[30m-\u001b[30m-\u001b[30m-\u001b[30m-\u001b[31mG\u001b[30m-\u001b[30m-\u001b[30m-\u001b[30m-\u001b[30m-\u001b[34mI\u001b[30m-\u001b[30m-\u001b[30m-\u001b[30m-\u001b[30m-\u001b[30m-\u001b[30m-\u001b[30m-\u001b[30m-\u001b[30m-\u001b[30m-\u001b[30m-\u001b[30m-\u001b[30m-\u001b[30m-\u001b[30m-\u001b[30m-\u001b[30m-\u001b[30m-\u001b[30m-\u001b[30m-\u001b[30m-\u001b[30m-\u001b[30m-\u001b[30m-\u001b[30m-\u001b[30m-\u001b[30m-\u001b[30m-\u001b[30mX     4s\n",
      "\u001b[30m-\u001b[30m-\u001b[30m-\u001b[30m-\u001b[30m-\u001b[30m-\u001b[30m-\u001b[30m-\u001b[30m-\u001b[30m-\u001b[30m-\u001b[30m-\u001b[30m-\u001b[30m-\u001b[30m-\u001b[30m-\u001b[30m-\u001b[30m-\u001b[31mG\u001b[30m-\u001b[30m-\u001b[30m-\u001b[30m-\u001b[30m-\u001b[30m-\u001b[30m-\u001b[34mI\u001b[30m-\u001b[30m-\u001b[30m-\u001b[30m-\u001b[30m-\u001b[30m-\u001b[30m-\u001b[30m-\u001b[30m-\u001b[30m-\u001b[30m-\u001b[30m-\u001b[30m-\u001b[30m-\u001b[30m-\u001b[30m-\u001b[30m-\u001b[30m-\u001b[30m-\u001b[30m-\u001b[30m-\u001b[30m-\u001b[30m-\u001b[30mX     5s\n",
      "\u001b[30m-\u001b[30m-\u001b[30m-\u001b[30m-\u001b[30m-\u001b[30m-\u001b[30m-\u001b[30m-\u001b[30m-\u001b[30m-\u001b[30m-\u001b[30m-\u001b[30m-\u001b[30m-\u001b[30m-\u001b[30m-\u001b[30m-\u001b[30m-\u001b[30m-\u001b[30m-\u001b[30m-\u001b[30m-\u001b[31mG\u001b[30m-\u001b[30m-\u001b[30m-\u001b[30m-\u001b[30m-\u001b[30m-\u001b[34mI\u001b[30m-\u001b[30m-\u001b[30m-\u001b[30m-\u001b[30m-\u001b[30m-\u001b[30m-\u001b[30m-\u001b[30m-\u001b[30m-\u001b[30m-\u001b[30m-\u001b[30m-\u001b[30m-\u001b[30m-\u001b[30m-\u001b[30m-\u001b[30m-\u001b[30m-\u001b[30m-\u001b[30mX     6s\n",
      "\u001b[30m-\u001b[30m-\u001b[30m-\u001b[30m-\u001b[30m-\u001b[30m-\u001b[30m-\u001b[30m-\u001b[30m-\u001b[30m-\u001b[30m-\u001b[30m-\u001b[30m-\u001b[30m-\u001b[30m-\u001b[30m-\u001b[30m-\u001b[30m-\u001b[30m-\u001b[30m-\u001b[30m-\u001b[30m-\u001b[30m-\u001b[30m-\u001b[30m-\u001b[30m-\u001b[31mG\u001b[30m-\u001b[30m-\u001b[30m-\u001b[30m-\u001b[30m-\u001b[34mI\u001b[30m-\u001b[30m-\u001b[30m-\u001b[30m-\u001b[30m-\u001b[30m-\u001b[30m-\u001b[30m-\u001b[30m-\u001b[30m-\u001b[30m-\u001b[30m-\u001b[30m-\u001b[30m-\u001b[30m-\u001b[30m-\u001b[30m-\u001b[30mX     7s\n",
      "\u001b[30m-\u001b[30m-\u001b[30m-\u001b[30m-\u001b[30m-\u001b[30m-\u001b[30m-\u001b[30m-\u001b[30m-\u001b[30m-\u001b[30m-\u001b[30m-\u001b[30m-\u001b[30m-\u001b[30m-\u001b[30m-\u001b[30m-\u001b[30m-\u001b[30m-\u001b[30m-\u001b[30m-\u001b[30m-\u001b[30m-\u001b[30m-\u001b[30m-\u001b[30m-\u001b[30m-\u001b[30m-\u001b[30m-\u001b[30m-\u001b[31mG\u001b[30m-\u001b[30m-\u001b[30m-\u001b[30m-\u001b[30m-\u001b[30m-\u001b[34mI\u001b[30m-\u001b[30m-\u001b[30m-\u001b[30m-\u001b[30m-\u001b[30m-\u001b[30m-\u001b[30m-\u001b[30m-\u001b[30m-\u001b[30m-\u001b[30m-\u001b[30mX     8s\n",
      "\u001b[30m-\u001b[30m-\u001b[30m-\u001b[30m-\u001b[30m-\u001b[30m-\u001b[30m-\u001b[30m-\u001b[30m-\u001b[30m-\u001b[30m-\u001b[30m-\u001b[30m-\u001b[30m-\u001b[30m-\u001b[30m-\u001b[30m-\u001b[30m-\u001b[30m-\u001b[30m-\u001b[30m-\u001b[30m-\u001b[30m-\u001b[30m-\u001b[30m-\u001b[30m-\u001b[30m-\u001b[30m-\u001b[30m-\u001b[30m-\u001b[30m-\u001b[30m-\u001b[30m-\u001b[30m-\u001b[31mG\u001b[30m-\u001b[30m-\u001b[30m-\u001b[34mI\u001b[30m-\u001b[30m-\u001b[30m-\u001b[30m-\u001b[30m-\u001b[30m-\u001b[30m-\u001b[30m-\u001b[30m-\u001b[30m-\u001b[30m-\u001b[30mX     9s\n",
      "\u001b[30m-\u001b[30m-\u001b[30m-\u001b[30m-\u001b[30m-\u001b[30m-\u001b[30m-\u001b[30m-\u001b[30m-\u001b[30m-\u001b[30m-\u001b[30m-\u001b[30m-\u001b[30m-\u001b[30m-\u001b[30m-\u001b[30m-\u001b[30m-\u001b[30m-\u001b[30m-\u001b[30m-\u001b[30m-\u001b[30m-\u001b[30m-\u001b[30m-\u001b[30m-\u001b[30m-\u001b[30m-\u001b[30m-\u001b[30m-\u001b[30m-\u001b[30m-\u001b[30m-\u001b[30m-\u001b[30m-\u001b[30m-\u001b[30m-\u001b[31mG\u001b[30m-\u001b[30m-\u001b[30m-\u001b[30m-\u001b[30m-\u001b[34mI\u001b[30m-\u001b[30m-\u001b[30m-\u001b[30m-\u001b[30m-\u001b[30m-\u001b[30mX     10s\n",
      "\u001b[30m-\u001b[30m-\u001b[30m-\u001b[30m-\u001b[30m-\u001b[30m-\u001b[30m-\u001b[30m-\u001b[30m-\u001b[30m-\u001b[30m-\u001b[30m-\u001b[30m-\u001b[30m-\u001b[30m-\u001b[30m-\u001b[30m-\u001b[30m-\u001b[30m-\u001b[30m-\u001b[30m-\u001b[30m-\u001b[30m-\u001b[30m-\u001b[30m-\u001b[30m-\u001b[30m-\u001b[30m-\u001b[30m-\u001b[30m-\u001b[30m-\u001b[30m-\u001b[30m-\u001b[30m-\u001b[30m-\u001b[30m-\u001b[30m-\u001b[30m-\u001b[30m-\u001b[30m-\u001b[30m-\u001b[30m-\u001b[31mG\u001b[30m-\u001b[30m-\u001b[30m-\u001b[30m-\u001b[30m-\u001b[34mI\u001b[30m-\u001b[30mX     11s\n",
      "\u001b[30m-\u001b[30m-\u001b[30m-\u001b[30m-\u001b[30m-\u001b[30m-\u001b[30m-\u001b[30m-\u001b[30m-\u001b[30m-\u001b[30m-\u001b[30m-\u001b[30m-\u001b[30m-\u001b[30m-\u001b[30m-\u001b[30m-\u001b[30m-\u001b[30m-\u001b[30m-\u001b[30m-\u001b[30m-\u001b[30m-\u001b[30m-\u001b[30m-\u001b[30m-\u001b[30m-\u001b[30m-\u001b[30m-\u001b[30m-\u001b[30m-\u001b[30m-\u001b[30m-\u001b[30m-\u001b[30m-\u001b[30m-\u001b[30m-\u001b[30m-\u001b[30m-\u001b[30m-\u001b[30m-\u001b[30m-\u001b[30m-\u001b[30m-\u001b[30m-\u001b[31mG\u001b[30m-\u001b[30m-\u001b[30m-\u001b[30m-\u001b[30mX     12s\n",
      "\u001b[32mTHE IMP HAS ESCAPED TO FREEDOM AFTER 12 SECONDS.  MISCHIEF AND TRICKERY AWAIT!\n"
     ]
    }
   ],
   "source": [
    "#simulation of the imp-golem chase to the surface\n",
    "\"\"\"simulation of the imp-golem chase to the surface\"\"\"\n",
    "\n",
    "import random\n",
    "import colorama\n",
    "from colorama import Fore\n",
    "\n",
    "def print_chase(golem_position,imp_position,road_length,time):\n",
    "    for i in range(road_length):\n",
    "        if i==golem_position and i==imp_position:\n",
    "            print(Fore.MAGENTA+'G',end='') \n",
    "        elif i==golem_position:\n",
    "            print(Fore.RED+'G',end='')\n",
    "        elif i==imp_position:\n",
    "            print(Fore.BLUE+'I',end='')\n",
    "        else:\n",
    "            print(Fore.BLACK+'-', end='')\n",
    "    print(Fore.BLACK+'X     '+str(time)+'s',)\n",
    "\n",
    "def golem_next_position(current_position,golem_min_speed,golem_max_speed):\n",
    "    next_position=current_position+random.randrange(golem_min_speed,golem_max_speed+1)\n",
    "    return next_position\n",
    "\n",
    "def imp_next_position(current_position,imp_min_speed,imp_max_speed):\n",
    "    next_position=current_position+random.randrange(imp_min_speed,imp_max_speed+1)\n",
    "    return next_position   \n",
    "\n",
    "def game_status(golem_position,imp_position,road_length): \n",
    "    status=''\n",
    "    if imp_position>=road_length:\n",
    "        status='Scaped'\n",
    "    elif golem_position>=imp_position:\n",
    "        status='Back'\n",
    "    else:\n",
    "        status='Continue'  \n",
    "    return status\n",
    "\n",
    "golem_min_speed=3\n",
    "golem_max_speed=5\n",
    "imp_min_speed=1\n",
    "imp_max_speed=9\n",
    "g_position=0\n",
    "i_position=5\n",
    "road_len=50\n",
    "time=0\n",
    "while game_status(g_position,i_position,road_len)=='Continue':\n",
    "    print_chase(g_position,i_position,road_len,time)\n",
    "    g_position=golem_next_position(g_position,golem_min_speed,golem_max_speed)\n",
    "    i_position=imp_next_position(i_position,imp_min_speed,imp_max_speed)\n",
    "    time=time+1\n",
    "\n",
    "print_chase(g_position,i_position,road_len,time)\n",
    "s=game_status(g_position,i_position,road_len)\n",
    "if s=='Scaped':\n",
    "    print(Fore.GREEN +'THE IMP HAS ESCAPED TO FREEDOM AFTER '+str(time)+' SECONDS.  MISCHIEF AND TRICKERY AWAIT!')\n",
    "else:\n",
    "    print(Fore.RED +'SADLY, IT’S BACK TO THE TOWER FOR THE IMP AFTER A '+str(time)+' SECOND-CHASE.')\n",
    "\n",
    "\n"
   ]
  },
  {
   "cell_type": "code",
   "execution_count": null,
   "metadata": {},
   "outputs": [],
   "source": []
  }
 ],
 "metadata": {
  "kernelspec": {
   "display_name": "Python 3",
   "language": "python",
   "name": "python3"
  },
  "language_info": {
   "codemirror_mode": {
    "name": "ipython",
    "version": 3
   },
   "file_extension": ".py",
   "mimetype": "text/x-python",
   "name": "python",
   "nbconvert_exporter": "python",
   "pygments_lexer": "ipython3",
   "version": "3.8.3"
  }
 },
 "nbformat": 4,
 "nbformat_minor": 4
}
